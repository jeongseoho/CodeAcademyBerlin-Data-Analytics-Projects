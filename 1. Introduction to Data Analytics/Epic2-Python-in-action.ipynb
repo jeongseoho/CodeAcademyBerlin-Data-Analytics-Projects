{
 "cells": [
  {
   "cell_type": "markdown",
   "metadata": {},
   "source": [
    "#### Exercise 1\n",
    "In your file create a variable called my_name with your name as the value. Put your name inside string quotes, e.g., \"my name\". Then add a line of code to print the variable name."
   ]
  },
  {
   "cell_type": "code",
   "execution_count": 2,
   "metadata": {},
   "outputs": [
    {
     "name": "stdout",
     "output_type": "stream",
     "text": [
      "Seoho\n"
     ]
    }
   ],
   "source": [
    "my_name = \"Seoho\"\n",
    "print(my_name)"
   ]
  },
  {
   "cell_type": "markdown",
   "metadata": {},
   "source": [
    "#### Exercise 2\n",
    "Create a variable called age with a number that is your age. Do not use string quotes for numbers.\n",
    "\n",
    "Add a line to print that variable. Save the file and run the cell. You should see your age."
   ]
  },
  {
   "cell_type": "code",
   "execution_count": 3,
   "metadata": {},
   "outputs": [
    {
     "name": "stdout",
     "output_type": "stream",
     "text": [
      "30\n"
     ]
    }
   ],
   "source": [
    "age = 30\n",
    "print(age)"
   ]
  },
  {
   "cell_type": "markdown",
   "metadata": {},
   "source": [
    "#### Exercise 3\n",
    "Create a variable called julia_age with a value 32. Create another variable called age_diff and set it to an expression that calculates your age minus Julias's age. Print the value of age_diff. Save the file and run the cell. You should see your age and the age difference. If you are younger than Julia, you should see a negative number."
   ]
  },
  {
   "cell_type": "code",
   "execution_count": 4,
   "metadata": {},
   "outputs": [
    {
     "name": "stdout",
     "output_type": "stream",
     "text": [
      "-2\n"
     ]
    }
   ],
   "source": [
    "julia_age = 32\n",
    "age_diff = age - julia_age\n",
    "print(age_diff)\n"
   ]
  },
  {
   "cell_type": "markdown",
   "metadata": {},
   "source": [
    "#### Exercise 4\n",
    "Write a conditional that compares the variable holding your age with the number 21. It should print either \"You are older than 21\" or \"You are not older than 21\", appropriately, depending on your age. Save your file and run the cell. Make sure you see the correct message. Try changing your age in the file to make sure the other message prints when it should."
   ]
  },
  {
   "cell_type": "code",
   "execution_count": 5,
   "metadata": {},
   "outputs": [
    {
     "name": "stdout",
     "output_type": "stream",
     "text": [
      "You are older than 21\n"
     ]
    }
   ],
   "source": [
    "if age > 21:\n",
    "    print(\"You are older than 21\")\n",
    "else:\n",
    "    print(\"You are not older than 21\")\n"
   ]
  },
  {
   "cell_type": "markdown",
   "metadata": {},
   "source": [
    "#### Exercise 5\n",
    "Write a conditional that compares your age with Julia's age. This conditional will need to test if you are older, younger, or the same age, and print, appropriately, either \"Julia is older than you\", Julia is younger than you\", or \"You have the same age as Julia\".\n"
   ]
  },
  {
   "cell_type": "code",
   "execution_count": 6,
   "metadata": {},
   "outputs": [
    {
     "name": "stdout",
     "output_type": "stream",
     "text": [
      "Julia is older than you\n"
     ]
    }
   ],
   "source": [
    "if age > julia_age:\n",
    "    print(\"Julia is younger than you\")\n",
    "elif age < julia_age:\n",
    "    print(\"Julia is older than you\")\n",
    "else:\n",
    "    print(\"You have the same age as Julia\")\n"
   ]
  },
  {
   "cell_type": "markdown",
   "metadata": {},
   "source": [
    "#### Exercise 6\n",
    "Create a list with all the names of your class (including mentors). Sort the list alphabetically. Then print the first element of the list. On the next line, print the last element of the list. On the next line, print all the elements of the list (use a \"for\" loop). Save the file and run the cell. You should see the first element of the sorted list, the last element of the sorted list, and all the elements in order in the list."
   ]
  },
  {
   "cell_type": "code",
   "execution_count": 7,
   "metadata": {},
   "outputs": [
    {
     "name": "stdout",
     "output_type": "stream",
     "text": [
      "Alice\n",
      "Evelyn\n",
      "Alice\n",
      "Bob\n",
      "Charlie\n",
      "David\n",
      "Evelyn\n"
     ]
    }
   ],
   "source": [
    "class_names = [\"Alice\", \"Bob\", \"Charlie\", \"David\", \"Evelyn\"]\n",
    "class_names.sort()\n",
    "print(class_names[0])  \n",
    "print(class_names[-1]) \n",
    "\n",
    "for name in class_names:\n",
    "    print(name)\n"
   ]
  },
  {
   "cell_type": "markdown",
   "metadata": {},
   "source": [
    "#### Exercise 7\n",
    "Create a list with all the ages of the students in your class. Iterate through the list using a for loop, and then print every age. Add a conditional inside the loop to only print even numbers. Save your changes and run the cell. You should see every age printed, then only the even numbers printed. If not, investigate and fix it. Then do the same using a while loop."
   ]
  },
  {
   "cell_type": "code",
   "execution_count": 8,
   "metadata": {},
   "outputs": [
    {
     "name": "stdout",
     "output_type": "stream",
     "text": [
      "20\n",
      "20\n",
      "21\n",
      "22\n",
      "22\n",
      "23\n",
      "24\n",
      "24\n",
      "20\n",
      "20\n",
      "21\n",
      "22\n",
      "22\n",
      "23\n",
      "24\n",
      "24\n"
     ]
    }
   ],
   "source": [
    "class_ages = [20, 21, 22, 23, 24]\n",
    "\n",
    "for age in class_ages:\n",
    "    print(age)\n",
    "    if age % 2 == 0:\n",
    "        print(age)\n",
    "\n",
    "index = 0\n",
    "while index < len(class_ages):\n",
    "    print(class_ages[index])\n",
    "    if class_ages[index] % 2 == 0:\n",
    "        print(class_ages[index])\n",
    "    index += 1\n"
   ]
  },
  {
   "cell_type": "markdown",
   "metadata": {},
   "source": [
    "#### Exercise 8\n",
    "Write a list containing numbers and print the lowest number."
   ]
  },
  {
   "cell_type": "code",
   "execution_count": 10,
   "metadata": {},
   "outputs": [
    {
     "name": "stdout",
     "output_type": "stream",
     "text": [
      "1\n"
     ]
    }
   ],
   "source": [
    "numbers = [5, 2, 9, 1, 5, 6]\n",
    "print(min(numbers))\n"
   ]
  },
  {
   "cell_type": "markdown",
   "metadata": {},
   "source": [
    "#### Exercise 9\n",
    "Write a list containing numbers and print the highest number."
   ]
  },
  {
   "cell_type": "code",
   "execution_count": 11,
   "metadata": {},
   "outputs": [
    {
     "name": "stdout",
     "output_type": "stream",
     "text": [
      "9\n"
     ]
    }
   ],
   "source": [
    "numbers = [5, 2, 9, 1, 5, 6]\n",
    "print(max(numbers))\n"
   ]
  },
  {
   "cell_type": "markdown",
   "metadata": {},
   "source": [
    "#### Exercise 10\n",
    "Given below is a list of 10 customers with year of birth, however, the list can be as large as several thousands of customers."
   ]
  },
  {
   "cell_type": "code",
   "execution_count": 12,
   "metadata": {},
   "outputs": [
    {
     "name": "stdout",
     "output_type": "stream",
     "text": [
      "25\n",
      "29\n",
      "19\n",
      "14\n",
      "17\n",
      "18\n",
      "30\n",
      "28\n",
      "45\n",
      "16\n"
     ]
    }
   ],
   "source": [
    "birth_years = [1999, 1995, 2005, 2010, 2007, 2006, 1994, 1996, 1979, 2008]\n",
    "current_year = 2024\n",
    "\n",
    "for year in birth_years:\n",
    "    print(current_year - year)\n"
   ]
  },
  {
   "cell_type": "markdown",
   "metadata": {},
   "source": [
    "#### Exercise 11\n",
    "Given below is a list of 10 customers with name and year of birth, however, the list can be as large as several thousands of customers."
   ]
  },
  {
   "cell_type": "code",
   "execution_count": 13,
   "metadata": {},
   "outputs": [
    {
     "name": "stdout",
     "output_type": "stream",
     "text": [
      "Bob is 25 years old\n",
      "Jack is 29 years old\n",
      "Lisa is 19 years old\n",
      "Maria is 14 years old\n",
      "Ben is 17 years old\n",
      "Emma is 18 years old\n",
      "Oscar is 30 years old\n",
      "Amy is 28 years old\n",
      "Paul is 45 years old\n",
      "Etta is 16 years old\n"
     ]
    }
   ],
   "source": [
    "customer_list = [\n",
    "    {\"name\": \"Bob\", \"age\": 1999},\n",
    "    {\"name\": \"Jack\", \"age\": 1995},\n",
    "    {\"name\": \"Lisa\", \"age\": 2005},\n",
    "    {\"name\": \"Maria\", \"age\": 2010},\n",
    "    {\"name\": \"Ben\", \"age\": 2007},\n",
    "    {\"name\": \"Emma\", \"age\": 2006},\n",
    "    {\"name\": \"Oscar\", \"age\": 1994},\n",
    "    {\"name\": \"Amy\", \"age\": 1996},\n",
    "    {\"name\": \"Paul\", \"age\": 1979},\n",
    "    {\"name\": \"Etta\", \"age\": 2008}\n",
    "]\n",
    "\n",
    "current_year = 2024\n",
    "\n",
    "for customer in customer_list:\n",
    "    age = current_year - customer[\"age\"]\n",
    "    print(f\"{customer['name']} is {age} years old\")\n"
   ]
  },
  {
   "cell_type": "markdown",
   "metadata": {},
   "source": [
    "#### Exercise 12\n",
    "Given a list of ages, remove the youngest and the oldest person.\n",
    "\n"
   ]
  },
  {
   "cell_type": "code",
   "execution_count": 14,
   "metadata": {},
   "outputs": [
    {
     "name": "stdout",
     "output_type": "stream",
     "text": [
      "[11, 12, 13, 14, 20, 23, 24, 25]\n"
     ]
    }
   ],
   "source": [
    "ages = [20, 24, 14, 9, 12, 13, 25, 23, 40, 11]\n",
    "\n",
    "sorted_ages = sorted(ages)\n",
    "sorted_ages.pop(0)  \n",
    "sorted_ages.pop(-1) \n",
    "print(sorted_ages)\n"
   ]
  },
  {
   "cell_type": "markdown",
   "metadata": {},
   "source": [
    "#### Exercise 13\n",
    "You have two lists with ages of customers from different cities."
   ]
  },
  {
   "cell_type": "code",
   "execution_count": 15,
   "metadata": {},
   "outputs": [
    {
     "name": "stdout",
     "output_type": "stream",
     "text": [
      "[10, 13, 15, 16, 18, 19]\n"
     ]
    }
   ],
   "source": [
    "berlin = [15, 13, 16, 18, 19, 10, 12]\n",
    "munich = [7, 13, 15, 20, 19, 18, 10, 16]\n",
    "\n",
    "common_ages = list(set(berlin) & set(munich))\n",
    "print(common_ages)\n"
   ]
  },
  {
   "cell_type": "markdown",
   "metadata": {},
   "source": [
    "#### Exercise 14\n",
    "You have a list with ages."
   ]
  },
  {
   "cell_type": "code",
   "execution_count": 16,
   "metadata": {},
   "outputs": [
    {
     "name": "stdout",
     "output_type": "stream",
     "text": [
      "[10, 13, 15, 16, 18, 19]\n"
     ]
    }
   ],
   "source": [
    "ages = [15, 13, 16, 18, 19, 15, 10]\n",
    "unique_ages = list(set(ages))\n",
    "print(unique_ages)\n"
   ]
  },
  {
   "cell_type": "markdown",
   "metadata": {},
   "source": [
    "#### Exercise 15\n",
    "Write a function that works like below:\n",
    "\n",
    "Function name: welcome\n",
    "\n",
    "welcome('Evelyn') would print- 'Welcome Evelyn, have a nice day!'\n",
    "\n",
    "welcome('Jost'), it would print - 'Welcome Jost, have a nice day!'\n",
    "\n"
   ]
  },
  {
   "cell_type": "code",
   "execution_count": 17,
   "metadata": {},
   "outputs": [
    {
     "name": "stdout",
     "output_type": "stream",
     "text": [
      "Welcome Evelyn, have a nice day!\n",
      "Welcome Jost, have a nice day!\n"
     ]
    }
   ],
   "source": [
    "def welcome(name):\n",
    "    print(f\"Welcome {name}, have a nice day!\")\n",
    "\n",
    "welcome('Evelyn')\n",
    "welcome('Jost')\n"
   ]
  },
  {
   "cell_type": "markdown",
   "metadata": {},
   "source": [
    "#### Exercise 16\n",
    "Write a function that takes a string as input and calculates the length.\n",
    "\n",
    "Function name: get_length\n",
    "\n",
    "get_length('Hello') would print / return 5.\n",
    "\n",
    "get_length('Hi') would print / return 2."
   ]
  },
  {
   "cell_type": "code",
   "execution_count": 18,
   "metadata": {},
   "outputs": [
    {
     "name": "stdout",
     "output_type": "stream",
     "text": [
      "5\n",
      "2\n"
     ]
    }
   ],
   "source": [
    "def get_length(string):\n",
    "    return len(string)\n",
    "\n",
    "print(get_length('Hello'))\n",
    "print(get_length('Hi'))\n"
   ]
  },
  {
   "cell_type": "markdown",
   "metadata": {},
   "source": [
    "#### Exercise 17\n",
    "Write a function which checks whether a number is even.\n",
    "\n",
    "Hint: Think about the modulus operator\n",
    "\n",
    "Function name: check_even\n",
    "\n",
    "check_even(6) would print / return 'Yes'\n",
    "\n",
    "check_even(5) would print / return 'No'"
   ]
  },
  {
   "cell_type": "code",
   "execution_count": 19,
   "metadata": {},
   "outputs": [
    {
     "name": "stdout",
     "output_type": "stream",
     "text": [
      "Yes\n",
      "No\n"
     ]
    }
   ],
   "source": [
    "def check_even(number):\n",
    "    return 'Yes' if number % 2 == 0 else 'No'\n",
    "\n",
    "print(check_even(6))\n",
    "print(check_even(5))\n"
   ]
  },
  {
   "cell_type": "markdown",
   "metadata": {},
   "source": [
    "#### Exercise 18\n",
    "Rewrite exercises 11, 12, 13, 14, 15 in a function."
   ]
  },
  {
   "cell_type": "code",
   "execution_count": 20,
   "metadata": {},
   "outputs": [
    {
     "name": "stdout",
     "output_type": "stream",
     "text": [
      "Bob is 25 years old\n",
      "Jack is 29 years old\n",
      "Lisa is 19 years old\n",
      "Maria is 14 years old\n",
      "Ben is 17 years old\n",
      "Emma is 18 years old\n",
      "Oscar is 30 years old\n",
      "Amy is 28 years old\n",
      "Paul is 45 years old\n",
      "Etta is 16 years old\n",
      "[11, 12, 13, 14, 20, 23, 24, 25]\n",
      "[10, 13, 15, 16, 18, 19]\n",
      "[10, 13, 15, 16, 18, 19]\n",
      "Welcome Evelyn, have a nice day!\n"
     ]
    }
   ],
   "source": [
    "def print_customer_ages(customers, current_year=2024):\n",
    "    for customer in customers:\n",
    "        age = current_year - customer[\"age\"]\n",
    "        print(f\"{customer['name']} is {age} years old\")\n",
    "\n",
    "def remove_extremes(ages):\n",
    "    sorted_ages = sorted(ages)\n",
    "    sorted_ages.pop(0)\n",
    "    sorted_ages.pop(-1)\n",
    "    return sorted_ages\n",
    "\n",
    "def find_common_ages(list1, list2):\n",
    "    return list(set(list1) & set(list2))\n",
    "\n",
    "def remove_duplicates(ages):\n",
    "    return list(set(ages))\n",
    "\n",
    "def welcome(name):\n",
    "    print(f\"Welcome {name}, have a nice day!\")\n",
    "\n",
    "# Example usage\n",
    "customers = [\n",
    "    {\"name\": \"Bob\", \"age\": 1999},\n",
    "    {\"name\": \"Jack\", \"age\": 1995},\n",
    "    {\"name\": \"Lisa\", \"age\": 2005},\n",
    "    {\"name\": \"Maria\", \"age\": 2010},\n",
    "    {\"name\": \"Ben\", \"age\": 2007},\n",
    "    {\"name\": \"Emma\", \"age\": 2006},\n",
    "    {\"name\": \"Oscar\", \"age\": 1994},\n",
    "    {\"name\": \"Amy\", \"age\": 1996},\n",
    "    {\"name\": \"Paul\", \"age\": 1979},\n",
    "    {\"name\": \"Etta\", \"age\": 2008}\n",
    "]\n",
    "print_customer_ages(customers)\n",
    "\n",
    "ages = [20, 24, 14, 9, 12, 13, 25, 23, 40, 11]\n",
    "print(remove_extremes(ages))\n",
    "\n",
    "berlin = [15, 13, 16, 18, 19, 10, 12]\n",
    "munich = [7, 13, 15, 20, 19, 18, 10, 16]\n",
    "print(find_common_ages(berlin, munich))\n",
    "\n",
    "ages = [15, 13, 16, 18, 19, 15, 10]\n",
    "print(remove_duplicates(ages))\n",
    "\n",
    "welcome('Evelyn')\n"
   ]
  },
  {
   "cell_type": "markdown",
   "metadata": {},
   "source": [
    "#### Exercise 19\n",
    "Write a function that takes an input list and value of age to find as input and return true or false if the age value is present or not in the list."
   ]
  },
  {
   "cell_type": "code",
   "execution_count": 21,
   "metadata": {},
   "outputs": [
    {
     "name": "stdout",
     "output_type": "stream",
     "text": [
      "True\n",
      "False\n"
     ]
    }
   ],
   "source": [
    "def age_in_list(age_list, age_to_find):\n",
    "    return age_to_find in age_list\n",
    "\n",
    "# Example usage\n",
    "ages = [20, 21, 22, 23, 24]\n",
    "print(age_in_list(ages, 23))  # True\n",
    "print(age_in_list(ages, 25))  # False\n"
   ]
  }
 ],
 "metadata": {
  "kernelspec": {
   "display_name": "Python 3",
   "language": "python",
   "name": "python3"
  },
  "language_info": {
   "codemirror_mode": {
    "name": "ipython",
    "version": 3
   },
   "file_extension": ".py",
   "mimetype": "text/x-python",
   "name": "python",
   "nbconvert_exporter": "python",
   "pygments_lexer": "ipython3",
   "version": "3.11.5"
  }
 },
 "nbformat": 4,
 "nbformat_minor": 2
}
