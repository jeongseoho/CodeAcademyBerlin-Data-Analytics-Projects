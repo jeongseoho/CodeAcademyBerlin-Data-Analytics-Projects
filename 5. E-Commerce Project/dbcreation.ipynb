{
 "cells": [
  {
   "cell_type": "markdown",
   "metadata": {},
   "source": [
    "## Loading the database into an RDBMS(SQLite)"
   ]
  },
  {
   "cell_type": "code",
   "execution_count": 30,
   "metadata": {},
   "outputs": [],
   "source": [
    "# Import required libraries \n",
    "\n",
    "import pandas as pd\n",
    "import os\n",
    "import sqlite3\n",
    "from sqlite3 import Error"
   ]
  },
  {
   "cell_type": "code",
   "execution_count": 31,
   "metadata": {},
   "outputs": [],
   "source": [
    "#Location where existing CSVs from last step are stored\n",
    "path = '/Users/penguin/Desktop/project/cab/ecommerce/Tables'\n"
   ]
  },
  {
   "cell_type": "code",
   "execution_count": 32,
   "metadata": {},
   "outputs": [],
   "source": [
    "# Create a connection using connect() method \n",
    "\n",
    "sales_db = sqlite3.connect('superstore_database.db')"
   ]
  },
  {
   "cell_type": "code",
   "execution_count": 33,
   "metadata": {},
   "outputs": [],
   "source": [
    "# A cursor object is called to be capable to send commands to the SQL\n",
    "\n",
    "cursor = sales_db.cursor()"
   ]
  },
  {
   "cell_type": "code",
   "execution_count": 34,
   "metadata": {},
   "outputs": [
    {
     "data": {
      "text/plain": [
       "<sqlite3.Cursor at 0x11d1134c0>"
      ]
     },
     "execution_count": 34,
     "metadata": {},
     "output_type": "execute_result"
    }
   ],
   "source": [
    "# Create a table in the database\n",
    "\n",
    "#create the (empty) tables which will be included in the database\n",
    "\n",
    "#Customers\n",
    "cursor.execute('''\n",
    "CREATE TABLE IF NOT EXISTS \"Customers\" (\n",
    "\t\"CustomerID\"\tCHAR(8),\n",
    "\t\"CustomerName\"\tVARCHAR(30),\n",
    "\t\"Segment\"\tVARCHAR(15),\n",
    "\tPRIMARY KEY(\"CustomerID\")\n",
    ");\n",
    "''')\n",
    "\n",
    "#Address\n",
    "cursor.execute('''\n",
    "CREATE TABLE IF NOT EXISTS \"Address\" (\n",
    "\t\"CustomerID\"\tCHAR(8),\n",
    "\t\"Region\"\tVARCHAR(7),\n",
    "\t\"State\"\tVARCHAR(20),\n",
    "\t\"City\"\tVARCHAR(30),\n",
    "\t\"PostalCode\"\tMEDIUMINT,\n",
    "\t\"AddressID\"\tCHAR(7),\n",
    "\tPRIMARY KEY(\"AddressID\"),\n",
    "    FOREIGN KEY (CustomerID) REFERENCES \"Customers\"(CustomerID)\n",
    ");\n",
    "''')\n",
    "\n",
    "#Orders\n",
    "cursor.execute('''\n",
    "CREATE TABLE IF NOT EXISTS \"Orders\" (\n",
    "\t\"OrderID\"\tCHAR(14),\n",
    "\t\"CustomerID\"\tCHAR(8),\n",
    "\t\"OrderDate\"\tDATE,\n",
    "\t\"AddressID\"\tCHAR(7),\n",
    "    \"ShipDate\"\tDATE,\n",
    "    \"ShipMode\"\tVARCHAR(20),\n",
    "\tPRIMARY KEY(\"OrderID\"),\n",
    "    FOREIGN KEY (CustomerID) REFERENCES \"Customers\"(CustomerID)\n",
    ");\n",
    "''')\n",
    "\n",
    "#Category\n",
    "cursor.execute('''\n",
    "CREATE TABLE IF NOT EXISTS \"Category\" (\n",
    "\t\"Category\"\tVARCHAR(20),\n",
    "\t\"SubCategory\"\tVARCHAR(20),\n",
    "\t\"CategoryID\"\tCHAR(5),\n",
    "\tPRIMARY KEY(\"CategoryID\")\n",
    ");\n",
    "''')\n",
    "\n",
    "\n",
    "#Products\n",
    "cursor.execute('''\n",
    "CREATE TABLE IF NOT EXISTS \"Products\" (\n",
    "\t\"ProductID\"\tCHAR(15),\n",
    "\t\"ProductName\"\tVARCHAR(200),\n",
    "\t\"CataloguePrice\"\tMEDIUMINT,\n",
    "\t\"SupplierPrice\"\tMEDIUMINT,\n",
    "\t\"CategoryID\"\tCHAR(5),\n",
    "\tPRIMARY KEY(\"ProductID\"),\n",
    "    FOREIGN KEY (CategoryID) REFERENCES \"Category\"(CategoryID)\n",
    ");\n",
    "''')\n",
    "\n",
    "\n",
    "#Order Details\n",
    "cursor.execute('''\n",
    "CREATE TABLE IF NOT EXISTS \"OrderDetails\" (\n",
    "\t\"OrderID\"\tCHAR(14),\n",
    "\t\"ProductID\"\tCHAR(15),\n",
    "\t\"Quantity\"\tTINYINT,\n",
    "\t\"Sales\"\tINT,\n",
    "\t\"Discount\"\tINT,\n",
    "\t\"Profit\"\tINT,\n",
    "\tPRIMARY KEY(\"OrderID\",\"ProductID\"),\n",
    "    FOREIGN KEY (ProductID) REFERENCES \"Products\"(ProductID),\n",
    "    FOREIGN KEY (OrderID) REFERENCES \"Orders\"(OrderID)\n",
    ");\n",
    "''')"
   ]
  },
  {
   "cell_type": "code",
   "execution_count": 35,
   "metadata": {},
   "outputs": [],
   "source": [
    "# Populate the empty tables. First step is converting the CSVs created in the previous notebook.\n",
    "\n",
    "csv_list = [os.path.splitext(filename)[0] for filename in os.listdir(path)]\n",
    "\n"
   ]
  },
  {
   "cell_type": "code",
   "execution_count": 36,
   "metadata": {},
   "outputs": [],
   "source": [
    "tables = [pd.read_csv(f'{path}{name}.csv') for name in csv_list]"
   ]
  },
  {
   "cell_type": "code",
   "execution_count": 37,
   "metadata": {},
   "outputs": [],
   "source": [
    "table_dict = dict(zip(csv_list, tables))"
   ]
  },
  {
   "cell_type": "code",
   "execution_count": 38,
   "metadata": {},
   "outputs": [],
   "source": [
    "table_list = iter(table_dict.keys())\n",
    "table_contents = iter(table_dict.values())\n",
    "\n",
    "\n",
    "#Here we are inserting the data into our predefined table structure. To do this, we use if_exists='append'. 'replace' would also remove our already defined structure. As we do not want an index, we also add index=False.\n",
    "for i in range (len(table_dict)):\n",
    "    next(table_contents).to_sql((next(table_list)), sales_db, if_exists='append', index=False)"
   ]
  },
  {
   "cell_type": "code",
   "execution_count": 39,
   "metadata": {},
   "outputs": [],
   "source": [
    "#Now we can commit these changes and perform queries on the database!\n",
    "sales_db.commit()"
   ]
  },
  {
   "cell_type": "code",
   "execution_count": 40,
   "metadata": {},
   "outputs": [],
   "source": [
    "#Always best practice to close the connection once you're done.\n",
    "sales_db.close()"
   ]
  }
 ],
 "metadata": {
  "kernelspec": {
   "display_name": "Python 3",
   "language": "python",
   "name": "python3"
  },
  "language_info": {
   "codemirror_mode": {
    "name": "ipython",
    "version": 3
   },
   "file_extension": ".py",
   "mimetype": "text/x-python",
   "name": "python",
   "nbconvert_exporter": "python",
   "pygments_lexer": "ipython3",
   "version": "3.11.5"
  }
 },
 "nbformat": 4,
 "nbformat_minor": 2
}
